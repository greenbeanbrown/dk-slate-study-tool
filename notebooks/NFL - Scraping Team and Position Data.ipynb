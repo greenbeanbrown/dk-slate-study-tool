{
 "cells": [
  {
   "cell_type": "code",
   "execution_count": 1,
   "metadata": {},
   "outputs": [],
   "source": [
    "import pandas as pd\n",
    "\n",
    "from selenium import webdriver\n",
    "from selenium.webdriver.common.keys import Keys"
   ]
  },
  {
   "cell_type": "code",
   "execution_count": 9,
   "metadata": {},
   "outputs": [],
   "source": [
    "# SCRAPING FUNCTION\n",
    "# This function parses rotogrinders website for Player Names, Teams, and Positions for MLB data\n",
    "# Input is a url that has a GET result for the rotogrinders url\n",
    "# example url = 'https://rotogrinders.com/game-stats/mlb-pitcher?site=draftkings&range=season'\n",
    "def parse_nfl_stat_data(url):\n",
    "    # Initialize driver object\n",
    "    driver = webdriver.Firefox()   # Establish the driver, we are using FireFox in this case\n",
    "    driver.get(url) \n",
    "\n",
    "    try:\n",
    "        # Find the ALL button, to show all results \n",
    "        page_buttons = driver.find_elements_by_class_name(\"page\")\n",
    "    \n",
    "        all_button = page_buttons[len(page_buttons)-1]\n",
    "        # Click the button\n",
    "        driver.execute_script(\"arguments[0].click();\", all_button)\n",
    "    except:\n",
    "        pass\n",
    "    \n",
    "    # Find the table we want\n",
    "    table = driver.find_element_by_id('game-stats-table') \n",
    "    # Get the stats table\n",
    "    table = driver.find_element_by_id('game-stats-table') \n",
    "    \n",
    "    df = pd.DataFrame()\n",
    "    \n",
    "    # Loop through each column\n",
    "    for col in table.find_elements_by_class_name('rgt-col'):\n",
    "        # Get the column header for each column and append\n",
    "        for header in col.find_elements_by_class_name('rgt-hdr'):\n",
    "            # Grabbing all players names into a list \n",
    "            div_tags = col.find_elements_by_tag_name('div')\n",
    "            column_data = [tag.text for tag in div_tags]\n",
    "            \n",
    "            df[column_data[0]] = column_data[1:]\n",
    "        \n",
    "    return(df)"
   ]
  },
  {
   "cell_type": "markdown",
   "metadata": {},
   "source": [
    "# Turns out that the RotoGrinders database is very limited, especially for NFL preseason, so using a more robust source, The Football Database"
   ]
  },
  {
   "cell_type": "code",
   "execution_count": 25,
   "metadata": {},
   "outputs": [],
   "source": [
    "url = 'https://www.footballdb.com/players/current.html?letter=A'"
   ]
  },
  {
   "cell_type": "code",
   "execution_count": 63,
   "metadata": {},
   "outputs": [],
   "source": [
    "test = parse_nfl_stat_data(url)"
   ]
  },
  {
   "cell_type": "code",
   "execution_count": 41,
   "metadata": {},
   "outputs": [],
   "source": [
    "team_names_dict = {'Arizona':'ARI',\n",
    "                    'Atlanta':'ATL',\n",
    "                    'Baltimore':'BAL',\n",
    "                    'Buffalo':'BUF',\n",
    "                    'Carolina':'CAR',\n",
    "                    'Chicago':'CHI',\n",
    "                    'Cincinnati':'CIN',\n",
    "                    'Cleveland':'CLE',\n",
    "                    'Dallas':'DAL',\n",
    "                    'Denver':'DEN',\n",
    "                    'Detroit':'DET',\n",
    "                    'Green Bay':'GB',\n",
    "                    'Houston':'HOU',\n",
    "                    'Indianapolis':'IND',\n",
    "                    'Jacksonville':'JAX',\n",
    "                    'Kansas Cit':'KC',\n",
    "                    'Las Vegas':'LV',\n",
    "                    'LA Chargers':'LAC',\n",
    "                    'LA Rams':'LAR',\n",
    "                    'Miami':'MIA',\n",
    "                    'Minnesota':'MIN',\n",
    "                    'New England':'NE',\n",
    "                    'New Orleans':'NO',\n",
    "                    'NY Giants':'NYG',\n",
    "                    'NY Jets':'NYJ',\n",
    "                    'Philadelphia':'PHI',\n",
    "                    'Pittsburgh':'PIT',\n",
    "                    'San Francisco':'SF',\n",
    "                    'Seattle':'SEA',\n",
    "                    'Tampa Bay':'TB',\n",
    "                    'Tennessee':'TEN',\n",
    "                    'Washington':'WAS'}"
   ]
  },
  {
   "cell_type": "code",
   "execution_count": 56,
   "metadata": {},
   "outputs": [
    {
     "data": {
      "text/plain": [
       "'Abdullah, Ameer RB Minnesota Nebraska'"
      ]
     },
     "execution_count": 56,
     "metadata": {},
     "output_type": "execute_result"
    }
   ],
   "source": [
    "test = test[0]\n",
    "\n",
    "test"
   ]
  },
  {
   "cell_type": "code",
   "execution_count": 65,
   "metadata": {},
   "outputs": [],
   "source": [
    "#[string.replace(team_names_dict) for string in test]\n",
    "\n",
    "''.join([team_names_dict.get(i, i) for i in test])\n",
    "\n",
    "\n",
    "#for pat, repl in dic.items():\n",
    "#    df.Text = df.Text.str.replace(pat, repl)\n",
    "    \n",
    "test = pd.Series(test).replace(team_names_dict, regex=True)"
   ]
  },
  {
   "cell_type": "code",
   "execution_count": 68,
   "metadata": {},
   "outputs": [],
   "source": [
    "values = [row.replace(' ','|') for row in test]\n",
    "\n"
   ]
  },
  {
   "cell_type": "code",
   "execution_count": 69,
   "metadata": {},
   "outputs": [
    {
     "data": {
      "text/plain": [
       "['Abdullah,|Ameer|RB|MIN|Nebraska',\n",
       " 'Aboushi,|Oday|OG|LAC|Virginia',\n",
       " 'Abram,|Johnathan|DB|LV|Mississippi|State',\n",
       " 'Abrams,|Delrick|DB|ATL|Colorado',\n",
       " 'Acy,|DeMarkus|DB|PIT|Missouri',\n",
       " 'Adams,|Andrew|DB|PHI|Connecticut',\n",
       " 'Adams,|Davante|WR|GB|Fresno|State',\n",
       " 'Adams,|Jamal|DB|SEA|Louisiana|State',\n",
       " 'Adams,|Jerell|TE|TB|South|CAR',\n",
       " 'Adams,|Josh|RB|NYJ|Notre|Dame',\n",
       " 'Adams,|Matthew|LB|IND|HOU',\n",
       " 'Adams,|Montravius|DT|NE|Auburn',\n",
       " 'Adams,|Myles|DT|SEA|Rice',\n",
       " 'Adams,|Paul|OT|TEN|Missouri',\n",
       " 'Adams,|Rodney|WR|CHI|South|Florida',\n",
       " 'Adams,|Tyrell|LB|BUF|West|Georgia',\n",
       " 'Adderley,|Nasir|DB|LAC|Delaware',\n",
       " 'Addison,|Mario|DE|BUF|Troy|State',\n",
       " 'Adebo,|Paulson|DB|NO|Stanford',\n",
       " 'Adeniji,|Hakeem|OG|CIN|Kansas',\n",
       " 'Adeniyi,|Olasunkanmi|LB|TEN|Toledo',\n",
       " 'Adeoye,|Aaron|LB|BAL|Southeast|Missouri|State',\n",
       " 'Adomitis,|Graham|TE|IND|Princeton',\n",
       " 'Agholor,|Nelson|WR|NE|Southern|California',\n",
       " 'Agim,|McTelvin|DT|DEN|Arkansas',\n",
       " 'Agnew,|Jamal|WR|JAX|San|Diego',\n",
       " 'Ahmed,|Salvon|RB|MIA|WAS',\n",
       " 'Aiyuk,|Brandon|WR|SF|ARI|State',\n",
       " 'Akers,|Cam|RB|LAR|Florida|State',\n",
       " 'Akers,|Landen|WR|LAR|Iowa|State',\n",
       " 'Akinmoladun,|Freedom|DT|CIN|Nebraska',\n",
       " 'Akins,|Jordan|TE|HOU|Central|Florida',\n",
       " 'Al-Shaair,|Azeez|LB|SF|Florida|Atlantic',\n",
       " 'Alaka,|Otaro|LB|BAL|Texas|A&M',\n",
       " 'Alarcon,|Isaac|OT|DAL|ITESM|Monterrey',\n",
       " 'Alexander,|Adonis|DB|NO|Virginia|Tech',\n",
       " 'Alexander,|Jaire|DB|GB|Louisville',\n",
       " 'Alexander,|Kwon|LB|NO|Louisiana|State',\n",
       " 'Alexander,|Mackensie|DB|MIN|Clemson',\n",
       " 'Alford,|Robert|DB|ARI|Southeastern|Louisiana',\n",
       " 'Alie-Cox,|Mo|TE|IND|Virginia|Commonwealth',\n",
       " 'Allegretti,|Nick|OG|KCy|Illinois',\n",
       " 'Allen,|Brandon|QB|CIN|Arkansas',\n",
       " 'Allen,|Brian|DB|CLE|Utah',\n",
       " 'Allen,|Brian|C|LAR|Michigan|State',\n",
       " 'Allen,|Dakota|LB|JAX|Texas|Tech',\n",
       " 'Allen,|Jonathan|DT|WAS|Alabama',\n",
       " 'Allen,|Josh|QB|BUF|Wyoming',\n",
       " 'Allen,|Josh|DE|JAX|Kentucky',\n",
       " 'Allen,|Keenan|WR|LAC|California',\n",
       " 'Allen,|Kyle|QB|WAS|HOU',\n",
       " 'Allen,|Marcus|LB|PIT|Penn|State',\n",
       " 'Allen,|Ricardo|DB|CIN|Purdue',\n",
       " 'Allen,|Zach|DE|ARI|Boston|College',\n",
       " 'Allison,|Geronimo|WR|DET|Illinois',\n",
       " 'Alonso,|Kiko|LB|NO|Oregon',\n",
       " 'Alualu,|Tyson|DE|PIT|California',\n",
       " 'Alufohai,|Auzoyah|DT|HOU|West|Georgia',\n",
       " 'Amadi,|Ugo|DB|SEA|Oregon',\n",
       " 'Ammendola,|Matt|K|NYJ|Oklahoma|State',\n",
       " 'Amos,|Adrian|DB|GB|Penn|State',\n",
       " 'Amukamara,|Prince|DB|NO|Nebraska',\n",
       " 'Anae,|Bradlee|DE|DAL|Utah',\n",
       " 'Anchrum,|Tremayne|OG|LAR|Clemson',\n",
       " 'Anderson,|Abdullah|DE|PIT|Bucknell',\n",
       " 'Anderson,|Calvin|OT|DEN|Texas',\n",
       " 'Anderson,|Darius|RB|IND|Texas|Christian',\n",
       " 'Anderson,|Henry|DE|NE|Stanford',\n",
       " 'Anderson,|Jack|OG|BUF|Texas|Tech',\n",
       " 'Anderson,|Otis|RB|LAR|Central|Florida',\n",
       " 'Anderson,|Robby|WR|CAR|Temple',\n",
       " 'Anderson,|Ryan|LB|NYG|Alabama',\n",
       " 'Anderson,|Stephen|TE|LAC|California',\n",
       " 'Anderson,|Zayne|DB|KCy|Brigham|Young',\n",
       " 'Andrews,|David|C|NE|Georgia',\n",
       " 'Andrews,|Josh|C|ATL|Oregon|State',\n",
       " 'Andrews,|Mark|TE|BAL|Oklahoma',\n",
       " 'Anger,|Bryan|P|DAL|California',\n",
       " 'Ankou,|Eli|DT|BUF|UCLA',\n",
       " 'Anzalone,|Alex|LB|DET|Florida',\n",
       " 'Apke,|Troy|DB|WAS|Penn|State',\n",
       " 'Apple,|Eli|DB|CIN|Ohio|State',\n",
       " 'Arcega-Whiteside,|J.J.|WR|PHI|Stanford',\n",
       " 'Archibong,|Dan|DT|CHI|Temple',\n",
       " 'Armah,|Alex|RB|NO|West|Georgia',\n",
       " 'Armstead,|Arik|DE|SF|Oregon',\n",
       " 'Armstead,|Terron|OT|NO|Arkansas-Pine|Bluff',\n",
       " 'Armstrong,|Cornell|DB|HOU|Southern|Mississippi',\n",
       " 'Armstrong,|Dorance|DE|DAL|Kansas',\n",
       " 'Arnette,|Damon|DB|LV|Ohio|State',\n",
       " 'Arnold,|Dan|TE|CAR|Wisconsin-Platteville',\n",
       " 'Arnold,|Grayland|DB|PHI|Baylor',\n",
       " 'Asiasi,|Devin|TE|NE|UCLA',\n",
       " 'Askew,|Jaytlin|DB|MIA|Georgia|Tech',\n",
       " 'Ateman,|Marcell|WR|LV|Oklahoma|State',\n",
       " 'Atkins,|John|DT|ATL|Georgia',\n",
       " 'Attaochu,|Jeremiah|LB|CHI|Georgia|Tech',\n",
       " 'Atwell,|Chatarius|WR|LAR|Louisville',\n",
       " 'Auclair,|Antony|TE|HOU|Laval',\n",
       " 'Ausbon,|Jhamon|WR|PHI|Texas|A&M',\n",
       " 'Austin,|Blessuan|DB|NYJ|Rutgers',\n",
       " 'Austin,|Tavon|WR|JAX|West|Virginia',\n",
       " 'Autry,|Denico|DE|TEN|Mississippi|State',\n",
       " 'Averett,|Anthony|DB|BAL|Alabama',\n",
       " 'Avery,|Genard|LB|PHI|Memphis',\n",
       " 'Avery,|Josh|DT|GB|Southeast|Missouri|State',\n",
       " 'Awosika,|Kayode|OG|PHI|BUF',\n",
       " 'Awuzie,|Chidobe|DB|CIN|Colorado']"
      ]
     },
     "execution_count": 69,
     "metadata": {},
     "output_type": "execute_result"
    }
   ],
   "source": [
    "values"
   ]
  },
  {
   "cell_type": "code",
   "execution_count": 37,
   "metadata": {},
   "outputs": [],
   "source": [
    "# SCRAPING FUNCTION\n",
    "# This function parses rotogrinders website for Player Names, Teams, and Positions for MLB data\n",
    "# Input is a url that has a GET result for the rotogrinders url\n",
    "# example url = 'https://rotogrinders.com/game-stats/mlb-pitcher?site=draftkings&range=season'\n",
    "def parse_nfl_stat_data(url):\n",
    "    # Initialize driver object\n",
    "    driver = webdriver.Firefox()   # Establish the driver, we are using FireFox in this case\n",
    "    driver.get(url) \n",
    "    \n",
    "    #df = pd.DataFrame()\n",
    "    \n",
    "    # Get all the table data\n",
    "    #data = driver.find_elements_by_class_name('td')\n",
    "    data = driver.find_elements_by_class_name('tr')\n",
    "    # Parse out the values from the table data tags\n",
    "    values = [tags.text for tags in data]\n",
    "    \n",
    "    # Replace the team names to something more standardized, abbreviations\n",
    "    values = pd.Series(values).replace(team_names_dict, regex=True)\n",
    "    \n",
    "    # Replace all whitespace NOT after a comma with a | sign\n",
    "    values = values.replace(' ', '|')\n",
    "        \n",
    "    return(values)"
   ]
  },
  {
   "cell_type": "code",
   "execution_count": null,
   "metadata": {},
   "outputs": [],
   "source": []
  },
  {
   "cell_type": "code",
   "execution_count": null,
   "metadata": {},
   "outputs": [],
   "source": []
  },
  {
   "cell_type": "code",
   "execution_count": null,
   "metadata": {},
   "outputs": [],
   "source": []
  },
  {
   "cell_type": "code",
   "execution_count": 14,
   "metadata": {},
   "outputs": [],
   "source": [
    "qb_df = parse_nfl_stat_data('https://rotogrinders.com/game-stats/nfl-qb?site=draftkings&range=last-two')\n",
    "qb_df = qb_df[['Player','Team','Pos']]"
   ]
  },
  {
   "cell_type": "code",
   "execution_count": 17,
   "metadata": {},
   "outputs": [
    {
     "name": "stdout",
     "output_type": "stream",
     "text": [
      "74\n"
     ]
    },
    {
     "data": {
      "text/html": [
       "<div>\n",
       "<style scoped>\n",
       "    .dataframe tbody tr th:only-of-type {\n",
       "        vertical-align: middle;\n",
       "    }\n",
       "\n",
       "    .dataframe tbody tr th {\n",
       "        vertical-align: top;\n",
       "    }\n",
       "\n",
       "    .dataframe thead th {\n",
       "        text-align: right;\n",
       "    }\n",
       "</style>\n",
       "<table border=\"1\" class=\"dataframe\">\n",
       "  <thead>\n",
       "    <tr style=\"text-align: right;\">\n",
       "      <th></th>\n",
       "      <th>Player</th>\n",
       "      <th>Team</th>\n",
       "      <th>Pos</th>\n",
       "    </tr>\n",
       "  </thead>\n",
       "  <tbody>\n",
       "    <tr>\n",
       "      <th>0</th>\n",
       "      <td>Aaron Rodgers</td>\n",
       "      <td>GBP</td>\n",
       "      <td>QB</td>\n",
       "    </tr>\n",
       "    <tr>\n",
       "      <th>1</th>\n",
       "      <td>Tom Brady</td>\n",
       "      <td>TBB</td>\n",
       "      <td>QB</td>\n",
       "    </tr>\n",
       "    <tr>\n",
       "      <th>2</th>\n",
       "      <td>Joe Flacco</td>\n",
       "      <td>PHI</td>\n",
       "      <td>QB</td>\n",
       "    </tr>\n",
       "    <tr>\n",
       "      <th>3</th>\n",
       "      <td>Matthew Stafford</td>\n",
       "      <td>LAR</td>\n",
       "      <td>QB</td>\n",
       "    </tr>\n",
       "    <tr>\n",
       "      <th>4</th>\n",
       "      <td>Matt Ryan</td>\n",
       "      <td>ATL</td>\n",
       "      <td>QB</td>\n",
       "    </tr>\n",
       "  </tbody>\n",
       "</table>\n",
       "</div>"
      ],
      "text/plain": [
       "             Player Team Pos\n",
       "0     Aaron Rodgers  GBP  QB\n",
       "1         Tom Brady  TBB  QB\n",
       "2        Joe Flacco  PHI  QB\n",
       "3  Matthew Stafford  LAR  QB\n",
       "4         Matt Ryan  ATL  QB"
      ]
     },
     "execution_count": 17,
     "metadata": {},
     "output_type": "execute_result"
    }
   ],
   "source": [
    "print(len(qb_df))\n",
    "qb_df.head()"
   ]
  },
  {
   "cell_type": "code",
   "execution_count": 7,
   "metadata": {},
   "outputs": [],
   "source": [
    "flex_df = parse_nfl_stat_data('https://rotogrinders.com/game-stats/nfl-flex?site=draftkings&range=last-two')\n",
    "flex_df = flex_df[['Player','Team','Pos']]"
   ]
  },
  {
   "cell_type": "code",
   "execution_count": 19,
   "metadata": {},
   "outputs": [
    {
     "name": "stdout",
     "output_type": "stream",
     "text": [
      "514\n"
     ]
    },
    {
     "data": {
      "text/html": [
       "<div>\n",
       "<style scoped>\n",
       "    .dataframe tbody tr th:only-of-type {\n",
       "        vertical-align: middle;\n",
       "    }\n",
       "\n",
       "    .dataframe tbody tr th {\n",
       "        vertical-align: top;\n",
       "    }\n",
       "\n",
       "    .dataframe thead th {\n",
       "        text-align: right;\n",
       "    }\n",
       "</style>\n",
       "<table border=\"1\" class=\"dataframe\">\n",
       "  <thead>\n",
       "    <tr style=\"text-align: right;\">\n",
       "      <th></th>\n",
       "      <th>Player</th>\n",
       "      <th>Team</th>\n",
       "      <th>Pos</th>\n",
       "    </tr>\n",
       "  </thead>\n",
       "  <tbody>\n",
       "    <tr>\n",
       "      <th>0</th>\n",
       "      <td>Mark Ingram</td>\n",
       "      <td>HOU</td>\n",
       "      <td>RB</td>\n",
       "    </tr>\n",
       "    <tr>\n",
       "      <th>1</th>\n",
       "      <td>Rob Gronkowski</td>\n",
       "      <td>TBB</td>\n",
       "      <td>TE</td>\n",
       "    </tr>\n",
       "    <tr>\n",
       "      <th>2</th>\n",
       "      <td>Marcedes Lewis</td>\n",
       "      <td>GBP</td>\n",
       "      <td>TE</td>\n",
       "    </tr>\n",
       "    <tr>\n",
       "      <th>3</th>\n",
       "      <td>Jimmy Graham</td>\n",
       "      <td>CHI</td>\n",
       "      <td>TE</td>\n",
       "    </tr>\n",
       "    <tr>\n",
       "      <th>4</th>\n",
       "      <td>Jared Cook</td>\n",
       "      <td>LAC</td>\n",
       "      <td>TE</td>\n",
       "    </tr>\n",
       "  </tbody>\n",
       "</table>\n",
       "</div>"
      ],
      "text/plain": [
       "           Player Team Pos\n",
       "0     Mark Ingram  HOU  RB\n",
       "1  Rob Gronkowski  TBB  TE\n",
       "2  Marcedes Lewis  GBP  TE\n",
       "3    Jimmy Graham  CHI  TE\n",
       "4      Jared Cook  LAC  TE"
      ]
     },
     "execution_count": 19,
     "metadata": {},
     "output_type": "execute_result"
    }
   ],
   "source": [
    "print(len(flex_df))\n",
    "flex_df.head()"
   ]
  },
  {
   "cell_type": "code",
   "execution_count": 11,
   "metadata": {},
   "outputs": [],
   "source": [
    "kicker_df = parse_nfl_stat_data('https://rotogrinders.com/game-stats/nfl-kicker?site=draftkings&range=last-two')\n",
    "kicker_df = kicker_df[['Player','Team','Pos']]"
   ]
  },
  {
   "cell_type": "code",
   "execution_count": 21,
   "metadata": {},
   "outputs": [
    {
     "name": "stdout",
     "output_type": "stream",
     "text": [
      "35\n"
     ]
    },
    {
     "data": {
      "text/html": [
       "<div>\n",
       "<style scoped>\n",
       "    .dataframe tbody tr th:only-of-type {\n",
       "        vertical-align: middle;\n",
       "    }\n",
       "\n",
       "    .dataframe tbody tr th {\n",
       "        vertical-align: top;\n",
       "    }\n",
       "\n",
       "    .dataframe thead th {\n",
       "        text-align: right;\n",
       "    }\n",
       "</style>\n",
       "<table border=\"1\" class=\"dataframe\">\n",
       "  <thead>\n",
       "    <tr style=\"text-align: right;\">\n",
       "      <th></th>\n",
       "      <th>Player</th>\n",
       "      <th>Team</th>\n",
       "      <th>Pos</th>\n",
       "    </tr>\n",
       "  </thead>\n",
       "  <tbody>\n",
       "    <tr>\n",
       "      <th>0</th>\n",
       "      <td>Mason Crosby</td>\n",
       "      <td>GBP</td>\n",
       "      <td>K</td>\n",
       "    </tr>\n",
       "    <tr>\n",
       "      <th>1</th>\n",
       "      <td>Ryan Succop</td>\n",
       "      <td>TBB</td>\n",
       "      <td>K</td>\n",
       "    </tr>\n",
       "    <tr>\n",
       "      <th>2</th>\n",
       "      <td>Robbie Gould</td>\n",
       "      <td>SFO</td>\n",
       "      <td>K</td>\n",
       "    </tr>\n",
       "    <tr>\n",
       "      <th>3</th>\n",
       "      <td>Nick Folk</td>\n",
       "      <td>NEP</td>\n",
       "      <td>K</td>\n",
       "    </tr>\n",
       "    <tr>\n",
       "      <th>4</th>\n",
       "      <td>Matt Prater</td>\n",
       "      <td>ARI</td>\n",
       "      <td>K</td>\n",
       "    </tr>\n",
       "  </tbody>\n",
       "</table>\n",
       "</div>"
      ],
      "text/plain": [
       "         Player Team Pos\n",
       "0  Mason Crosby  GBP   K\n",
       "1   Ryan Succop  TBB   K\n",
       "2  Robbie Gould  SFO   K\n",
       "3     Nick Folk  NEP   K\n",
       "4   Matt Prater  ARI   K"
      ]
     },
     "execution_count": 21,
     "metadata": {},
     "output_type": "execute_result"
    }
   ],
   "source": [
    "print(len(kicker_df))\n",
    "kicker_df.head()"
   ]
  },
  {
   "cell_type": "code",
   "execution_count": 13,
   "metadata": {},
   "outputs": [],
   "source": [
    "# CONCAT THE DATAFRAMES TO CREATE THE MASTER"
   ]
  },
  {
   "cell_type": "code",
   "execution_count": 22,
   "metadata": {},
   "outputs": [],
   "source": [
    "master_df = pd.concat([qb_df, flex_df, kicker_df])"
   ]
  },
  {
   "cell_type": "code",
   "execution_count": 23,
   "metadata": {},
   "outputs": [
    {
     "name": "stdout",
     "output_type": "stream",
     "text": [
      "623\n"
     ]
    },
    {
     "data": {
      "text/html": [
       "<div>\n",
       "<style scoped>\n",
       "    .dataframe tbody tr th:only-of-type {\n",
       "        vertical-align: middle;\n",
       "    }\n",
       "\n",
       "    .dataframe tbody tr th {\n",
       "        vertical-align: top;\n",
       "    }\n",
       "\n",
       "    .dataframe thead th {\n",
       "        text-align: right;\n",
       "    }\n",
       "</style>\n",
       "<table border=\"1\" class=\"dataframe\">\n",
       "  <thead>\n",
       "    <tr style=\"text-align: right;\">\n",
       "      <th></th>\n",
       "      <th>Player</th>\n",
       "      <th>Team</th>\n",
       "      <th>Pos</th>\n",
       "    </tr>\n",
       "  </thead>\n",
       "  <tbody>\n",
       "    <tr>\n",
       "      <th>0</th>\n",
       "      <td>Aaron Rodgers</td>\n",
       "      <td>GBP</td>\n",
       "      <td>QB</td>\n",
       "    </tr>\n",
       "    <tr>\n",
       "      <th>1</th>\n",
       "      <td>Tom Brady</td>\n",
       "      <td>TBB</td>\n",
       "      <td>QB</td>\n",
       "    </tr>\n",
       "    <tr>\n",
       "      <th>2</th>\n",
       "      <td>Joe Flacco</td>\n",
       "      <td>PHI</td>\n",
       "      <td>QB</td>\n",
       "    </tr>\n",
       "    <tr>\n",
       "      <th>3</th>\n",
       "      <td>Matthew Stafford</td>\n",
       "      <td>LAR</td>\n",
       "      <td>QB</td>\n",
       "    </tr>\n",
       "    <tr>\n",
       "      <th>4</th>\n",
       "      <td>Matt Ryan</td>\n",
       "      <td>ATL</td>\n",
       "      <td>QB</td>\n",
       "    </tr>\n",
       "  </tbody>\n",
       "</table>\n",
       "</div>"
      ],
      "text/plain": [
       "             Player Team Pos\n",
       "0     Aaron Rodgers  GBP  QB\n",
       "1         Tom Brady  TBB  QB\n",
       "2        Joe Flacco  PHI  QB\n",
       "3  Matthew Stafford  LAR  QB\n",
       "4         Matt Ryan  ATL  QB"
      ]
     },
     "execution_count": 23,
     "metadata": {},
     "output_type": "execute_result"
    }
   ],
   "source": [
    "print(len(master_df))\n",
    "master_df.head()"
   ]
  },
  {
   "cell_type": "code",
   "execution_count": 24,
   "metadata": {},
   "outputs": [],
   "source": [
    "data_dir = 'C:/Users/ahote/Documents/dk_slate_study_tool/dash/nfl/assets/'\n",
    "master_df.to_csv(data_dir + 'nfl_player_team_pos_df.csv', index=False)"
   ]
  },
  {
   "cell_type": "code",
   "execution_count": null,
   "metadata": {},
   "outputs": [],
   "source": []
  }
 ],
 "metadata": {
  "kernelspec": {
   "display_name": "Python 3",
   "language": "python",
   "name": "python3"
  },
  "language_info": {
   "codemirror_mode": {
    "name": "ipython",
    "version": 3
   },
   "file_extension": ".py",
   "mimetype": "text/x-python",
   "name": "python",
   "nbconvert_exporter": "python",
   "pygments_lexer": "ipython3",
   "version": "3.8.5"
  }
 },
 "nbformat": 4,
 "nbformat_minor": 4
}
